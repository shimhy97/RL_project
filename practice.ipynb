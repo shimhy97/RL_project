{
 "cells": [
  {
   "cell_type": "code",
   "execution_count": 81,
   "metadata": {},
   "outputs": [],
   "source": [
    "class calculator:\n",
    "    # 더하기\n",
    "    def __init__(self):\n",
    "        self.a = \"계산기\"\n",
    "    def add(self, inp):\n",
    "        global global_number\n",
    "        global_number = global_number + inp\n",
    "    # 빼기\n",
    "    def sub(self, inp):\n",
    "        global global_number\n",
    "        global_number = global_number - inp\n",
    "    # 곱하기\n",
    "    def mul(self, inp):\n",
    "        global global_number\n",
    "        global_number = global_number * inp\n",
    "    # 나누기\n",
    "    def div(self, inp):\n",
    "        global global_number\n",
    "        global_number = global_number / inp\n",
    "    # 초기화\n",
    "    def toZero(self):\n",
    "        print(self.a)\n",
    "        global global_number\n",
    "        global_number = 0"
   ]
  },
  {
   "cell_type": "code",
   "execution_count": 82,
   "metadata": {},
   "outputs": [
    {
     "name": "stdout",
     "output_type": "stream",
     "text": [
      "계산기\n"
     ]
    }
   ],
   "source": [
    "global_number = 0\n",
    "\n",
    "cal = calculator()\n",
    "\n",
    "cal.add(10)\n",
    "cal.sub(5)\n",
    "cal.div(10)\n",
    "cal.div(10)\n",
    "cal.div(10)\n",
    "cal.toZero()"
   ]
  }
 ],
 "metadata": {
  "kernelspec": {
   "display_name": "Python 3.9.12 ('tfgpu_py39')",
   "language": "python",
   "name": "python3"
  },
  "language_info": {
   "codemirror_mode": {
    "name": "ipython",
    "version": 3
   },
   "file_extension": ".py",
   "mimetype": "text/x-python",
   "name": "python",
   "nbconvert_exporter": "python",
   "pygments_lexer": "ipython3",
   "version": "3.9.12"
  },
  "orig_nbformat": 4,
  "vscode": {
   "interpreter": {
    "hash": "858ca9582b27f3d6b0476faef9f84142a897f7290aa960af3ea53c4c8186ac9c"
   }
  }
 },
 "nbformat": 4,
 "nbformat_minor": 2
}
